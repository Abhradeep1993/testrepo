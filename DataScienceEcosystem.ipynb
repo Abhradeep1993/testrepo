{
 "cells": [
  {
   "cell_type": "markdown",
   "id": "d6fe5a79-5437-4d30-9de3-13cd1e2fa441",
   "metadata": {},
   "source": [
    "# Data Science Tools and Ecosystem"
   ]
  },
  {
   "cell_type": "markdown",
   "id": "5ab965e0-8f02-455d-bde5-df224fecf736",
   "metadata": {},
   "source": [
    "In this notebook, Data Science Tools and Ecosystems are summarized."
   ]
  },
  {
   "cell_type": "markdown",
   "id": "83b2deee-178e-4456-bbc0-652a5993f799",
   "metadata": {},
   "source": [
    "Some of the popular languages that Data Scientists use are :\n",
    "1. Python\n",
    "2. R\n",
    "3. SQL\n",
    "4. Julia\n",
    "5. Scala\n",
    "6. Java\n",
    "7. JavaScript"
   ]
  },
  {
   "attachments": {},
   "cell_type": "markdown",
   "id": "7819a80c-e8b4-4c26-b9e0-4a7f232718de",
   "metadata": {},
   "source": [
    "Some of the commonly used libraries by Data Scientists include :\n",
    "1. NumPy\n",
    "2. Pandas\n",
    "3. SciPy\n",
    "4. Matplotlib\n",
    "5. TensorFlow"
   ]
  },
  {
   "cell_type": "markdown",
   "id": "d6a1aaf5-2170-473d-bf6e-ccda20c20e22",
   "metadata": {},
   "source": [
    "| Data Science Tools |\n",
    "|--------------------|\n",
    "| Apache Spark  |\n",
    "| Apache Hadoop |\n",
    "| Jupyter Notebooks |"
   ]
  },
  {
   "cell_type": "markdown",
   "id": "5fb2a46a-434d-4666-b58b-a7f726f583ec",
   "metadata": {},
   "source": [
    "### Below are a few examples of evaluating arithmetic expressions in Python"
   ]
  },
  {
   "cell_type": "code",
   "execution_count": 15,
   "id": "47d6d133-e2e3-4753-90d7-f4300e119e8b",
   "metadata": {},
   "outputs": [
    {
     "data": {
      "text/plain": [
       "17"
      ]
     },
     "execution_count": 15,
     "metadata": {},
     "output_type": "execute_result"
    }
   ],
   "source": [
    "# This is a simple arithmetic expression to multiply and then add integers\n",
    "(3*4)+5"
   ]
  },
  {
   "cell_type": "code",
   "execution_count": 17,
   "id": "e0bfab3d-2aea-494e-b7cf-7e2223a622af",
   "metadata": {},
   "outputs": [
    {
     "data": {
      "text/plain": [
       "3.3333333333333335"
      ]
     },
     "execution_count": 17,
     "metadata": {},
     "output_type": "execute_result"
    }
   ],
   "source": [
    "# This will convert 200 minutes to hours by dividing it by 60\n",
    "200/60"
   ]
  },
  {
   "cell_type": "markdown",
   "id": "f782af5c-d544-4f3c-be89-3bd9c1860d79",
   "metadata": {},
   "source": [
    "__Objectives:__\n",
    "- List of Data Science Tools\n",
    "- Languages Used for Data Science\n",
    "- Using Jupyter Notebooks to get started with Python\n",
    "- List of Data Science Libraries\n",
    "- Using Markdown and Code Cells"
   ]
  },
  {
   "cell_type": "markdown",
   "id": "9a90001e-4659-4178-959e-48aa92e1e521",
   "metadata": {},
   "source": [
    "## Author\n",
    "Abhradeep Bhattacharya"
   ]
  },
  {
   "cell_type": "code",
   "execution_count": null,
   "id": "3ae7157c-9b4f-4b9a-80b7-ad6ea2fce374",
   "metadata": {},
   "outputs": [],
   "source": []
  }
 ],
 "metadata": {
  "kernelspec": {
   "display_name": "Python 3 (ipykernel)",
   "language": "python",
   "name": "python3"
  },
  "language_info": {
   "codemirror_mode": {
    "name": "ipython",
    "version": 3
   },
   "file_extension": ".py",
   "mimetype": "text/x-python",
   "name": "python",
   "nbconvert_exporter": "python",
   "pygments_lexer": "ipython3",
   "version": "3.12.4"
  }
 },
 "nbformat": 4,
 "nbformat_minor": 5
}
